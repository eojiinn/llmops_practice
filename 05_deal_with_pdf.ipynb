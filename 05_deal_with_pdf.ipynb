{
 "cells": [
  {
   "cell_type": "code",
   "execution_count": 11,
   "metadata": {},
   "outputs": [],
   "source": [
    "import os\n",
    "import getpass\n",
    "from dotenv import load_dotenv\n",
    "\n",
    "load_dotenv()\n",
    "\n",
    "langchain_tracing = os.getenv(\"LANGCHAIN_TRACING_V2\")\n",
    "langchain_api_key = os.getenv(\"LANGCHAIN_API_KEY\")\n",
    "aws_region = os.getenv(\"AWS_DEFAULT_REGION\")\n",
    "tavily_api_key = os.getenv(\"TAVILY_API_KEY\")"
   ]
  },
  {
   "cell_type": "code",
   "execution_count": 12,
   "metadata": {},
   "outputs": [
    {
     "name": "stdout",
     "output_type": "stream",
     "text": [
      "106\n",
      "FORM 10-K FORM 10-K\n",
      "{'source': './nike-10k-2023.pdf', 'page': 0}\n"
     ]
    }
   ],
   "source": [
    "from langchain_community.document_loaders import PyPDFLoader\n",
    "\n",
    "# PDF 파일 경로 설정\n",
    "file_path = \"./nike-10k-2023.pdf\"\n",
    "\n",
    "# PyPDFLoader를 사용하여 PDF 파일 로드\n",
    "loader = PyPDFLoader(file_path)\n",
    "\n",
    "# PDF 문서를 로드하고 각 페이지의 내용을 저장\n",
    "docs = loader.load()\n",
    "\n",
    "# 로드된 문서 수 확인\n",
    "print(len(docs))\n",
    "\n",
    "# 첫 번째 문서 내용 및 메타데이터 확인\n",
    "print(docs[0].page_content[0:100])\n",
    "print(docs[0].metadata)\n"
   ]
  },
  {
   "cell_type": "code",
   "execution_count": 13,
   "metadata": {},
   "outputs": [
    {
     "data": {
      "text/plain": [
       "'UNITED STATES\\nSECURITIES AND EXCHANGE COMMISSION\\nWashington, D.C. 20549\\nFORM 10-K \\n(Mark One)\\n☑ ANNU'"
      ]
     },
     "execution_count": 13,
     "metadata": {},
     "output_type": "execute_result"
    }
   ],
   "source": [
    "docs[1].page_content[0:100]"
   ]
  },
  {
   "cell_type": "markdown",
   "metadata": {},
   "source": [
    "## RAG 시스템 구축\n",
    "### 벡터 스토어 및 임베딩 설정\n",
    "#### 필수 패키지 설치"
   ]
  },
  {
   "cell_type": "code",
   "execution_count": 2,
   "metadata": {},
   "outputs": [],
   "source": [
    "from langchain_aws import BedrockEmbeddings\n",
    "from langchain_core.vectorstores import InMemoryVectorStore\n",
    "from langchain_text_splitters import RecursiveCharacterTextSplitter\n",
    "\n",
    "# 텍스트 스플리터 설정 (1000자 단위로 문서를 나누고, 중첩 200자 적용)\n",
    "text_splitter = RecursiveCharacterTextSplitter(chunk_size=1000, chunk_overlap=200)\n",
    "splits = text_splitter.split_documents(docs)\n"
   ]
  },
  {
   "cell_type": "code",
   "execution_count": 14,
   "metadata": {},
   "outputs": [],
   "source": [
    "# 벡터 스토어에 임베딩 적용 및 문서 저장\n",
    "vectorstore = InMemoryVectorStore.from_documents(\n",
    "    documents=splits, embedding=BedrockEmbeddings(\n",
    "        model_id='amazon.titan-embed-text-v1',\n",
    "    )\n",
    ")\n",
    "\n",
    "# 리트리버 생성\n",
    "retriever = vectorstore.as_retriever()"
   ]
  },
  {
   "cell_type": "markdown",
   "metadata": {},
   "source": [
    "### 질문에 대한 응답 생성"
   ]
  },
  {
   "cell_type": "code",
   "execution_count": 15,
   "metadata": {},
   "outputs": [
    {
     "name": "stdout",
     "output_type": "stream",
     "text": [
      "나이키의 2023 회계연도 매출은 512억 달러입니다. 이는 2022 회계연도 대비 보고 기준으로 10%, 통화중립 기준으로 16% 증가한 수치입니다.\n"
     ]
    }
   ],
   "source": [
    "from langchain.chains import create_retrieval_chain\n",
    "from langchain.chains.combine_documents import create_stuff_documents_chain\n",
    "from langchain_core.prompts import ChatPromptTemplate\n",
    "from langchain_aws import ChatBedrock\n",
    "\n",
    "# LLM 설정 (Claude 모델 사용)\n",
    "llm = ChatBedrock(\n",
    "    model_id=\"anthropic.claude-3-5-sonnet-20240620-v1:0\",\n",
    ")\n",
    "\n",
    "# 시스템 프롬프트 설정\n",
    "system_prompt = (\n",
    "    \"당신은 질문에 답하는 어시스턴트입니다. \"\n",
    "    \"다음 문서에서 제공된 내용을 사용하여 질문에 답변하세요. \"\n",
    "    \"모르면 모른다고 말하세요. 최대 세 문장으로 간결하게 답하세요.\"\n",
    "    \"\\\\n\\\\n\"\n",
    "    \"{context}\"\n",
    ")\n",
    "\n",
    "# 프롬프트 템플릿 생성\n",
    "prompt = ChatPromptTemplate.from_messages(\n",
    "    [\n",
    "        (\"system\", system_prompt),\n",
    "        (\"human\", \"{input}\"),\n",
    "    ]\n",
    ")\n",
    "\n",
    "# RAG 체인 생성\n",
    "question_answer_chain = create_stuff_documents_chain(llm, prompt)\n",
    "rag_chain = create_retrieval_chain(retriever, question_answer_chain)\n",
    "\n",
    "# 질문에 대한 응답 생성\n",
    "results = rag_chain.invoke({\"input\": \"나이키의 2023년 매출은 얼마인가요?\"})\n",
    "\n",
    "# 결과 출력\n",
    "print(results['answer'])"
   ]
  },
  {
   "cell_type": "code",
   "execution_count": 16,
   "metadata": {},
   "outputs": [
    {
     "data": {
      "text/plain": [
       "'FISCAL 2023 NIKE BRAND REVENUE HIGHLIGHTS\\nThe following tables present NIKE Brand revenues disaggregated by reportable operating segment, distribution channel and \\nmajor product line:\\nFISCAL 2023 COMPARED TO FISCAL 2022\\n•NIKE, Inc. Revenues were $51.2 billion in fiscal 2023, which increased 10% and 16% compared to fiscal 2022 on a reported \\nand currency-neutral basis, respectively. The increase was due to higher revenues in North America, Europe, Middle East & \\nAfrica (\"EMEA\"), APLA and Greater China, which contributed approximately 7, 6, 2 and 1 percentage points to NIKE, Inc. \\nRevenues, respectively. \\n•NIKE Brand revenues, which represented over 90% of NIKE, Inc. Revenues,  increased  10% and 16% on a reported and \\ncurrency-neutral basis, respectively. This increase was primarily due to higher revenues in Men\\'s, the Jordan Brand, \\nWomen\\'s and Kids\\' which grew 17%, 35%,11% and 10%, respectively, on a wholesale equivalent basis.'"
      ]
     },
     "execution_count": 16,
     "metadata": {},
     "output_type": "execute_result"
    }
   ],
   "source": [
    "results['context'][0].page_content"
   ]
  },
  {
   "cell_type": "markdown",
   "metadata": {},
   "source": [
    "기존의 체인\n",
    "\n",
    "입력 | 모델 | 출력\n",
    "\n",
    "RAG\n",
    "\n",
    "**\"정보\"** + 입력 | 모델 | 출력\n",
    "\n",
    "\n",
    "**유사한_문장** = 유사도_측정기(정보들, 내가_궁금한_문장)  -> vector_store : 유사한 문장들을 찾을 수 있도록 각각을 벡터화 (실수 배열화)\n",
    "**유효한_정보** = 정보추출기(정보, 내가_궁금한_문장)  -> "
   ]
  },
  {
   "cell_type": "markdown",
   "metadata": {},
   "source": []
  }
 ],
 "metadata": {
  "kernelspec": {
   "display_name": ".venv",
   "language": "python",
   "name": "python3"
  },
  "language_info": {
   "codemirror_mode": {
    "name": "ipython",
    "version": 3
   },
   "file_extension": ".py",
   "mimetype": "text/x-python",
   "name": "python",
   "nbconvert_exporter": "python",
   "pygments_lexer": "ipython3",
   "version": "3.10.12"
  }
 },
 "nbformat": 4,
 "nbformat_minor": 2
}
