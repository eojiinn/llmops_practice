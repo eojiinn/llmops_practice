{
 "cells": [
  {
   "cell_type": "code",
   "execution_count": 1,
   "metadata": {},
   "outputs": [],
   "source": [
    "from langchain_community.tools.tavily_search import TavilySearchResults"
   ]
  },
  {
   "cell_type": "code",
   "execution_count": 8,
   "metadata": {},
   "outputs": [],
   "source": [
    "import os\n",
    "import getpass\n",
    "from dotenv import load_dotenv\n",
    "\n",
    "load_dotenv()\n",
    "\n",
    "langchain_tracing = os.getenv(\"LANGCHAIN_TRACING_V2\")\n",
    "langchain_api_key = os.getenv(\"LANGCHAIN_API_KEY\")\n",
    "aws_region = os.getenv(\"AWS_DEFAULT_REGION\")\n",
    "tavily_api_key = os.getenv(\"TAVILY_API_KEY\")"
   ]
  },
  {
   "cell_type": "markdown",
   "metadata": {},
   "source": [
    "### Tavily 도구 설정"
   ]
  },
  {
   "cell_type": "code",
   "execution_count": 19,
   "metadata": {},
   "outputs": [
    {
     "name": "stdout",
     "output_type": "stream",
     "text": [
      "[{'url': 'https://alphasquare.co.kr/home/stock-summary?code=005930', 'content': '삼성전자의 실시간 주가, 차트, 기업 정보, 매출 정보, 투자자별 매매동향 등을 확인할 수 있는 웹사이트입니다. 삼성전자의 주가 현재가는 64500원이며, 변동률은 -2.57%이다.'}, {'url': 'https://kr.investing.com/equities/samsung-electronics-co-ltd', 'content': '삼성전자의 현재 주가, 적정가치, 기술적 분석, 뉴스 및 분석, 재정 상황 등을 확인하세요. 삼성전자는 세계 최대의 전자제조업체로, 2024년 10월 30일에 다음 실적을 발표할 예정입니다.'}]\n"
     ]
    }
   ],
   "source": [
    "from langchain_community.tools.tavily_search import TavilySearchResults\n",
    "# from dabom_langchain import DabomSearchResults\n",
    "# from pydantic import BaseModel\n",
    "# Tavily 검색 도구 설정 (삼성전자 주가 검색용)\n",
    "search = TavilySearchResults(max_results=2)\n",
    "# search = DabomSearchResults(max_results=2)\n",
    "\n",
    "# 샘플 검색 실행: 삼성전자 주가\n",
    "search_results = search.invoke(\"삼성전자(005930) 주가\")\n",
    "print(search_results)\n",
    "\n",
    "# 도구 목록에 추가\n",
    "tools = [search]\n"
   ]
  },
  {
   "cell_type": "markdown",
   "metadata": {},
   "source": [
    "### 언어 모델 사용"
   ]
  },
  {
   "cell_type": "code",
   "execution_count": 10,
   "metadata": {},
   "outputs": [
    {
     "name": "stdout",
     "output_type": "stream",
     "text": [
      "ContentString: \n",
      "ToolCalls: [{'name': 'tavily_search_results_json', 'args': {'query': '삼성전자 현재 주가'}, 'id': 'toolu_bdrk_019nsHsbfX5trvcBMLi7FCwn', 'type': 'tool_call'}]\n"
     ]
    }
   ],
   "source": [
    "from langchain_aws import ChatBedrock\n",
    "from langchain_core.messages import HumanMessage\n",
    "\n",
    "# Claude 모델 설정\n",
    "model = ChatBedrock(\n",
    "    model_id=\"anthropic.claude-3-5-sonnet-20240620-v1:0\",\n",
    ")\n",
    "\n",
    "# 도구를 바인딩한 모델 생성\n",
    "model_with_tools = model.bind_tools(tools)\n",
    "\n",
    "# 삼성전자 주가에 대한 질문 처리\n",
    "response = model_with_tools.invoke([HumanMessage(content=\"삼성전자 주가가 어떻게 되나요?\")])\n",
    "print(f\"ContentString: {response.content}\")\n",
    "print(f\"ToolCalls: {response.tool_calls}\")\n",
    "\n",
    "### 딱히 어떤 정보 검색이 필요하지 않으면 ToolCalls가 비어서 나옴"
   ]
  },
  {
   "cell_type": "markdown",
   "metadata": {},
   "source": [
    "### 에이전트 생성"
   ]
  },
  {
   "cell_type": "code",
   "execution_count": 11,
   "metadata": {},
   "outputs": [
    {
     "name": "stdout",
     "output_type": "stream",
     "text": [
      "[HumanMessage(content='삼성전자 주가가 어떻게 되나요?', additional_kwargs={}, response_metadata={}, id='7c5c3f73-328f-4c29-8e08-b6fe0015e66d'), AIMessage(content='', additional_kwargs={'usage': {'prompt_tokens': 417, 'completion_tokens': 113, 'total_tokens': 530}, 'stop_reason': 'tool_use', 'model_id': 'anthropic.claude-3-5-sonnet-20240620-v1:0'}, response_metadata={'usage': {'prompt_tokens': 417, 'completion_tokens': 113, 'total_tokens': 530}, 'stop_reason': 'tool_use', 'model_id': 'anthropic.claude-3-5-sonnet-20240620-v1:0'}, id='run-fb82540f-9b59-48b1-8577-b101193435b8-0', tool_calls=[{'name': 'tavily_search_results_json', 'args': {'query': '삼성전자 현재 주가'}, 'id': 'toolu_bdrk_013wE5wWUmsMchgKoLcWZHM2', 'type': 'tool_call'}], usage_metadata={'input_tokens': 417, 'output_tokens': 113, 'total_tokens': 530}), ToolMessage(content='[{\"url\": \"https://kr.investing.com/equities/samsung-electronics-co-ltd\", \"content\": \"삼성전자 (005930) 삼성전자은/는 지난 해 (52주 동안) 거래된 가격 중 가장 낮은 가격을 기록했습니다. 이것은 주식의 현재 가치를 분석하고 향후 가격 움직임을 예측하는 데 사용할 수 있는 기술적 지표입니다. Samsung Electronics Co Ltd 주가가 실시간인 경우 이 ...\"}, {\"url\": \"https://www.yna.co.kr/view/AKR20211231126500002\", \"content\": \"삼성전자 주가는 2021년 연간 수익률 마이너스로 부진하며 7만원대로 마무리했다. 그러나 2022년에는 메모리 반도체 업사이클에 힘입어 목표주가를 10만원에서 12만원으로 올리는 증권가들의 의견이 많다.\"}]', name='tavily_search_results_json', id='da0ecaae-e42d-4ce4-993a-1d6e95ba0d28', tool_call_id='toolu_bdrk_013wE5wWUmsMchgKoLcWZHM2', artifact={'query': '삼성전자 현재 주가', 'follow_up_questions': None, 'answer': None, 'images': [], 'results': [{'title': 'Samsung Electronics Co Ltd 오늘의 주가 | 005930 실시간 티커 - Investing.com', 'url': 'https://kr.investing.com/equities/samsung-electronics-co-ltd', 'content': '삼성전자 (005930) 삼성전자은/는 지난 해 (52주 동안) 거래된 가격 중 가장 낮은 가격을 기록했습니다. 이것은 주식의 현재 가치를 분석하고 향후 가격 움직임을 예측하는 데 사용할 수 있는 기술적 지표입니다. Samsung Electronics Co Ltd 주가가 실시간인 경우 이 ...', 'score': 0.9991541, 'raw_content': None}, {'title': \"삼성전자 새해 '10만전자' 갈까…목표가 최고 12만원 | 연합뉴스\", 'url': 'https://www.yna.co.kr/view/AKR20211231126500002', 'content': '삼성전자 주가는 2021년 연간 수익률 마이너스로 부진하며 7만원대로 마무리했다. 그러나 2022년에는 메모리 반도체 업사이클에 힘입어 목표주가를 10만원에서 12만원으로 올리는 증권가들의 의견이 많다.', 'score': 0.9985221, 'raw_content': None}], 'response_time': 1.72}), AIMessage(content='삼성전자의 현재 주가에 대해 검색해보았습니다. 실시간 주가 정보는 계속 변동되기 때문에 정확한 현재 가격을 말씀드리기는 어렵습니다. 하지만 몇 가지 중요한 정보를 공유해 드리겠습니다:\\n\\n1. 삼성전자의 주식 코드는 005930입니다.\\n\\n2. 최근 삼성전자 주가는 52주 동안의 최저점을 기록했다고 합니다. 이는 주식의 현재 가치를 분석하고 향후 가격 움직임을 예측하는 데 사용될 수 있는 중요한 기술적 지표입니다.\\n\\n3. 2021년 말 기준으로 삼성전자 주가는 7만원대에서 마감되었습니다. 그 해에는 연간 수익률이 마이너스를 기록하며 부진한 모습을 보였습니다.\\n\\n4. 2022년 전망으로는 메모리 반도체 업사이클에 힘입어 많은 증권사들이 삼성전자의 목표주가를 10만원에서 12만원으로 상향 조정했다고 합니다.\\n\\n정확한 현재 주가를 알고 싶으시다면, 주식 거래 플랫폼이나 실시간 금융 정보 제공 웹사이트를 확인하시는 것이 가장 좋습니다. 주가는 시시각각 변동되므로, 실시간 데이터를 제공하는 신뢰할 수 있는 소스를 이용하시는 것이 중요합니다.', additional_kwargs={'usage': {'prompt_tokens': 806, 'completion_tokens': 531, 'total_tokens': 1337}, 'stop_reason': 'end_turn', 'model_id': 'anthropic.claude-3-5-sonnet-20240620-v1:0'}, response_metadata={'usage': {'prompt_tokens': 806, 'completion_tokens': 531, 'total_tokens': 1337}, 'stop_reason': 'end_turn', 'model_id': 'anthropic.claude-3-5-sonnet-20240620-v1:0'}, id='run-9c98983a-90b4-40fa-8b7c-c419c129715c-0', usage_metadata={'input_tokens': 806, 'output_tokens': 531, 'total_tokens': 1337})]\n"
     ]
    }
   ],
   "source": [
    "from langgraph.prebuilt import create_react_agent\n",
    "\n",
    "# 에이전트 생성\n",
    "agent_executor = create_react_agent(model, tools)\n",
    "\n",
    "# 삼성전자 주가 질문 처리\n",
    "response = agent_executor.invoke(\n",
    "    {\"messages\": [HumanMessage(content=\"삼성전자 주가가 어떻게 되나요?\")]}\n",
    ").get(\"messages\")\n",
    "print(response)"
   ]
  },
  {
   "cell_type": "code",
   "execution_count": 12,
   "metadata": {},
   "outputs": [
    {
     "name": "stdout",
     "output_type": "stream",
     "text": [
      "==================================\u001b[1m Ai Message \u001b[0m==================================\n",
      "\n",
      "삼성전자의 현재 주가에 대해 검색해보았습니다. 실시간 주가 정보는 계속 변동되기 때문에 정확한 현재 가격을 말씀드리기는 어렵습니다. 하지만 몇 가지 중요한 정보를 공유해 드리겠습니다:\n",
      "\n",
      "1. 삼성전자의 주식 코드는 005930입니다.\n",
      "\n",
      "2. 최근 삼성전자 주가는 52주 동안의 최저점을 기록했다고 합니다. 이는 주식의 현재 가치를 분석하고 향후 가격 움직임을 예측하는 데 사용될 수 있는 중요한 기술적 지표입니다.\n",
      "\n",
      "3. 2021년 말 기준으로 삼성전자 주가는 7만원대에서 마감되었습니다. 그 해에는 연간 수익률이 마이너스를 기록하며 부진한 모습을 보였습니다.\n",
      "\n",
      "4. 2022년 전망으로는 메모리 반도체 업사이클에 힘입어 많은 증권사들이 삼성전자의 목표주가를 10만원에서 12만원으로 상향 조정했다고 합니다.\n",
      "\n",
      "정확한 현재 주가를 알고 싶으시다면, 주식 거래 플랫폼이나 실시간 금융 정보 제공 웹사이트를 확인하시는 것이 가장 좋습니다. 주가는 시시각각 변동되므로, 실시간 데이터를 제공하는 신뢰할 수 있는 소스를 이용하시는 것이 중요합니다.\n"
     ]
    }
   ],
   "source": [
    "response[-1].pretty_print()"
   ]
  },
  {
   "cell_type": "markdown",
   "metadata": {},
   "source": [
    "### 스트리밍 방식으로 응답 확인"
   ]
  },
  {
   "cell_type": "code",
   "execution_count": 15,
   "metadata": {},
   "outputs": [
    {
     "name": "stdout",
     "output_type": "stream",
     "text": [
      "{'agent': {'messages': [AIMessage(content='', additional_kwargs={'usage': {'prompt_tokens': 417, 'completion_tokens': 148, 'total_tokens': 565}, 'stop_reason': 'tool_use', 'model_id': 'anthropic.claude-3-5-sonnet-20240620-v1:0'}, response_metadata={'usage': {'prompt_tokens': 417, 'completion_tokens': 148, 'total_tokens': 565}, 'stop_reason': 'tool_use', 'model_id': 'anthropic.claude-3-5-sonnet-20240620-v1:0'}, id='run-69825341-e944-4c16-afba-6610f55a73e4-0', tool_calls=[{'name': 'tavily_search_results_json', 'args': {'query': '삼성전자 현재 주가'}, 'id': 'toolu_bdrk_01RawPtdRzcsPQFoxRHUjVfn', 'type': 'tool_call'}], usage_metadata={'input_tokens': 417, 'output_tokens': 148, 'total_tokens': 565})]}}\n",
      "----\n",
      "{'tools': {'messages': [ToolMessage(content='[{\"url\": \"https://kr.investing.com/equities/samsung-electronics-co-ltd\", \"content\": \"삼성전자 (005930) 삼성전자은/는 지난 해 (52주 동안) 거래된 가격 중 가장 낮은 가격을 기록했습니다. 이것은 주식의 현재 가치를 분석하고 향후 가격 움직임을 예측하는 데 사용할 수 있는 기술적 지표입니다. Samsung Electronics Co Ltd 주가가 실시간인 경우 이 ...\"}, {\"url\": \"https://www.msn.com/ko-kr/news/other/5만-전자-사실이냐-개미들-경악-삼성전자-장중-52주-신저가-경신/ar-AA1rysMp\", \"content\": \"연합뉴스 삼성전자 주가가 장중 5만원대까지 밀리며 52주 신저가를 경신했다. 2일 오전 10시 43분 현재 삼성전자는 전장 대비 100원(0.16%) 하락한 6만1400 ...\"}]', name='tavily_search_results_json', id='a3f4102d-3318-411e-876a-0bdb2d9fb579', tool_call_id='toolu_bdrk_01RawPtdRzcsPQFoxRHUjVfn', artifact={'query': '삼성전자 현재 주가', 'follow_up_questions': None, 'answer': None, 'images': [], 'results': [{'title': 'Samsung Electronics Co Ltd 오늘의 주가 | 005930 실시간 티커 - Investing.com', 'url': 'https://kr.investing.com/equities/samsung-electronics-co-ltd', 'content': '삼성전자 (005930) 삼성전자은/는 지난 해 (52주 동안) 거래된 가격 중 가장 낮은 가격을 기록했습니다. 이것은 주식의 현재 가치를 분석하고 향후 가격 움직임을 예측하는 데 사용할 수 있는 기술적 지표입니다. Samsung Electronics Co Ltd 주가가 실시간인 경우 이 ...', 'score': 0.9991541, 'raw_content': None}, {'title': '\"\\'5만 전자\\' 사실이냐\" 개미들 경악…삼성전자 장중 52주 신저가 경신', 'url': 'https://www.msn.com/ko-kr/news/other/5만-전자-사실이냐-개미들-경악-삼성전자-장중-52주-신저가-경신/ar-AA1rysMp', 'content': '연합뉴스 삼성전자 주가가 장중 5만원대까지 밀리며 52주 신저가를 경신했다. 2일 오전 10시 43분 현재 삼성전자는 전장 대비 100원(0.16%) 하락한 6만1400 ...', 'score': 0.99893504, 'raw_content': None}], 'response_time': 2.93})]}}\n",
      "----\n",
      "{'agent': {'messages': [AIMessage(content='삼성전자 주가에 대한 최신 정보를 검색해보았습니다. 현재 시점의 정확한 주가는 실시간으로 변동되기 때문에 정확한 가격을 말씀드리기는 어렵지만, 최근 동향에 대해 알려드리겠습니다.\\n\\n1. 최근 주가 동향:\\n   - 삼성전자 주가가 최근 52주 신저가를 기록했다고 합니다.\\n   - 2일 오전 10시 43분 기준으로 삼성전자 주가는 61,400원이었습니다. 이는 전날 종가 대비 100원(0.16%) 하락한 수준입니다.\\n\\n2. 주목할 만한 점:\\n   - 주가가 장중 5만원대까지 하락했다는 보도가 있었습니다. 이는 투자자들 사이에서 \"5만 전자\"라고 불리며 주목을 받았습니다.\\n   - 52주 신저가를 기록했다는 것은 지난 1년 동안의 거래 중 가장 낮은 가격을 기록했다는 의미입니다.\\n\\n3. 투자자 반응:\\n   - 이러한 주가 하락에 대해 개인 투자자들 사이에서 우려의 목소리가 나오고 있습니다.\\n\\n주가는 여러 요인에 의해 지속적으로 변동되므로, 현재 정확한 가격을 알고 싶으시다면 실시간 주식 정보를 제공하는 웹사이트나 앱을 확인하시는 것이 좋습니다. 또한, 투자 결정을 내리기 전에 전문가의 조언을 구하거나 회사의 재무 상태, 시장 동향 등을 종합적으로 고려하시기 바랍니다.', additional_kwargs={'usage': {'prompt_tokens': 829, 'completion_tokens': 593, 'total_tokens': 1422}, 'stop_reason': 'end_turn', 'model_id': 'anthropic.claude-3-5-sonnet-20240620-v1:0'}, response_metadata={'usage': {'prompt_tokens': 829, 'completion_tokens': 593, 'total_tokens': 1422}, 'stop_reason': 'end_turn', 'model_id': 'anthropic.claude-3-5-sonnet-20240620-v1:0'}, id='run-2357a1a9-dcb0-4eda-8402-75f720819a73-0', usage_metadata={'input_tokens': 829, 'output_tokens': 593, 'total_tokens': 1422})]}}\n",
      "----\n"
     ]
    }
   ],
   "source": [
    "# 스트리밍 메시지 실행\n",
    "for chunk in agent_executor.stream(\n",
    "    {\"messages\": [HumanMessage(content=\"삼성전자 주가가 어떻게 되나요?\")]}\n",
    "):\n",
    "    print(chunk)\n",
    "    print(\"----\")"
   ]
  },
  {
   "cell_type": "markdown",
   "metadata": {},
   "source": [
    "### 메모리 추가"
   ]
  },
  {
   "cell_type": "code",
   "execution_count": 20,
   "metadata": {},
   "outputs": [
    {
     "name": "stdout",
     "output_type": "stream",
     "text": [
      "{'agent': {'messages': [AIMessage(content='', additional_kwargs={'usage': {'prompt_tokens': 417, 'completion_tokens': 110, 'total_tokens': 527}, 'stop_reason': 'tool_use', 'model_id': 'anthropic.claude-3-5-sonnet-20240620-v1:0'}, response_metadata={'usage': {'prompt_tokens': 417, 'completion_tokens': 110, 'total_tokens': 527}, 'stop_reason': 'tool_use', 'model_id': 'anthropic.claude-3-5-sonnet-20240620-v1:0'}, id='run-37a582a6-3b73-43c2-8712-d5daf67f47df-0', tool_calls=[{'name': 'tavily_search_results_json', 'args': {'query': '삼성전자 현재 주가'}, 'id': 'toolu_bdrk_01CcXwsNKcvm6N8KNDXgKhUm', 'type': 'tool_call'}], usage_metadata={'input_tokens': 417, 'output_tokens': 110, 'total_tokens': 527})]}}\n",
      "----\n",
      "{'tools': {'messages': [ToolMessage(content='[{\"url\": \"https://kr.investing.com/equities/samsung-electronics-co-ltd\", \"content\": \"삼성전자 (005930) 삼성전자은/는 지난 해 (52주 동안) 거래된 가격 중 가장 낮은 가격을 기록했습니다. 이것은 주식의 현재 가치를 분석하고 향후 가격 움직임을 예측하는 데 사용할 수 있는 기술적 지표입니다. Samsung Electronics Co Ltd 주가가 실시간인 경우 이 ...\"}, {\"url\": \"https://www.mk.co.kr/economy/view/2024/594800\", \"content\": \"김동원 센터장은 \\\\\"현재 삼성전자는 우려가 기대로 빠르게 전환되는 구간으로 판단돼 하반기 코스피 최선호주로 제시한다\\\\\"고 강조했다. ... 결국 삼성전자 주가 추이를 결정할 핵심 요인은 hbm이 투입될 전방 ai 시장의 \\'랠리 지속\\' 여부다. 국내 자본 시장과 it ...\"}]', name='tavily_search_results_json', id='9d7c9d65-23e6-476d-b5a7-515f31830589', tool_call_id='toolu_bdrk_01CcXwsNKcvm6N8KNDXgKhUm', artifact={'query': '삼성전자 현재 주가', 'follow_up_questions': None, 'answer': None, 'images': [], 'results': [{'title': 'Samsung Electronics Co Ltd 오늘의 주가 | 005930 실시간 티커 - Investing.com', 'url': 'https://kr.investing.com/equities/samsung-electronics-co-ltd', 'content': '삼성전자 (005930) 삼성전자은/는 지난 해 (52주 동안) 거래된 가격 중 가장 낮은 가격을 기록했습니다. 이것은 주식의 현재 가치를 분석하고 향후 가격 움직임을 예측하는 데 사용할 수 있는 기술적 지표입니다. Samsung Electronics Co Ltd 주가가 실시간인 경우 이 ...', 'score': 0.9991541, 'raw_content': None}, {'title': '엇갈린 주가 전망…삼성전자를 어찌할꼬 - 매경economy', 'url': 'https://www.mk.co.kr/economy/view/2024/594800', 'content': '김동원 센터장은 \"현재 삼성전자는 우려가 기대로 빠르게 전환되는 구간으로 판단돼 하반기 코스피 최선호주로 제시한다\"고 강조했다. ... 결국 삼성전자 주가 추이를 결정할 핵심 요인은 hbm이 투입될 전방 ai 시장의 \\'랠리 지속\\' 여부다. 국내 자본 시장과 it ...', 'score': 0.99901116, 'raw_content': None}], 'response_time': 2.38})]}}\n",
      "----\n",
      "{'agent': {'messages': [AIMessage(content=\"삼성전자의 현재 주가에 대해 정확한 실시간 가격을 제공하기는 어렵지만, 최근 정보를 바탕으로 삼성전자 주식 상황에 대해 말씀드리겠습니다.\\n\\n1. 최근 주가 동향:\\n삼성전자(005930) 주식은 최근 52주 동안의 거래에서 가장 낮은 가격을 기록했습니다. 이는 주식 가치 분석과 향후 가격 움직임을 예측하는 데 중요한 기술적 지표가 될 수 있습니다.\\n\\n2. 전망:\\n일부 분석가들은 삼성전자에 대해 긍정적인 전망을 가지고 있습니다. 예를 들어, 한 센터장은 삼성전자가 현재 우려에서 기대로 빠르게 전환되는 구간에 있다고 판단하며, 하반기 코스피 최선호주로 제시했습니다.\\n\\n3. 주요 영향 요인:\\n삼성전자 주가의 향후 추이를 결정할 핵심 요인으로는 HBM(High Bandwidth Memory)이 투입될 전방 AI 시장의 '랠리 지속' 여부가 언급되고 있습니다. AI 시장의 성장과 삼성전자의 관련 제품 수요가 주가에 중요한 영향을 미칠 것으로 보입니다.\\n\\n4. 시장 상황:\\n국내 자본 시장과 IT 섹터의 전반적인 동향도 삼성전자 주가에 영향을 미칠 것으로 예상됩니다.\\n\\n정확한 실시간 주가를 알고 싶으시다면, 한국거래소(KRX) 웹사이트나 실시간 주식 정보를 제공하는 금융 포털을 확인하시는 것이 좋습니다. 주식 투자는 항상 위험이 따르므로, 투자 결정 시 전문가의 조언을 구하고 충분한 정보를 바탕으로 신중하게 결정하시기 바랍니다.\", additional_kwargs={'usage': {'prompt_tokens': 842, 'completion_tokens': 688, 'total_tokens': 1530}, 'stop_reason': 'end_turn', 'model_id': 'anthropic.claude-3-5-sonnet-20240620-v1:0'}, response_metadata={'usage': {'prompt_tokens': 842, 'completion_tokens': 688, 'total_tokens': 1530}, 'stop_reason': 'end_turn', 'model_id': 'anthropic.claude-3-5-sonnet-20240620-v1:0'}, id='run-911ed72b-e514-4fc9-ad10-6d6340ba101c-0', usage_metadata={'input_tokens': 842, 'output_tokens': 688, 'total_tokens': 1530})]}}\n",
      "----\n",
      "{'agent': {'messages': [AIMessage(content='죄송합니다만, 이전 대화 내용을 확인할 수 있는 기록이 없어서 귀하께서 이전에 무엇을 물어보셨는지 정확히 알 수 없습니다. 저는 각 대화를 독립적으로 처리하기 때문에, 이전 대화의 내용을 기억하지 못합니다.\\n\\n하지만 제가 마지막으로 답변 드린 내용을 보면, 삼성전자의 주가에 대해 질문하셨던 것 같습니다. 삼성전자의 주가 동향, 전망, 주요 영향 요인 등에 대해 정보를 제공해 드렸습니다.\\n\\n만약 이전 질문에 대해 추가적인 정보나 설명이 필요하시다면, 다시 구체적으로 물어봐 주시면 최선을 다해 답변 드리겠습니다. 혹은 새로운 주제에 대해 궁금하신 점이 있으시다면 언제든 질문해 주세요.', additional_kwargs={'usage': {'prompt_tokens': 1550, 'completion_tokens': 342, 'total_tokens': 1892}, 'stop_reason': 'end_turn', 'model_id': 'anthropic.claude-3-5-sonnet-20240620-v1:0'}, response_metadata={'usage': {'prompt_tokens': 1550, 'completion_tokens': 342, 'total_tokens': 1892}, 'stop_reason': 'end_turn', 'model_id': 'anthropic.claude-3-5-sonnet-20240620-v1:0'}, id='run-833d9b44-b6f3-4f68-a66b-1ffaadabffc6-0', usage_metadata={'input_tokens': 1550, 'output_tokens': 342, 'total_tokens': 1892})]}}\n",
      "----\n"
     ]
    }
   ],
   "source": [
    "from langgraph.checkpoint.memory import MemorySaver\n",
    "\n",
    "# 메모리 설정\n",
    "memory = MemorySaver()\n",
    "\n",
    "# 메모리 적용된 에이전트 생성\n",
    "agent_executor = create_react_agent(model, tools, checkpointer=memory)\n",
    "\n",
    "# 대화 스레드 ID 설정\n",
    "config = {\"configurable\": {\"thread_id\": \"abc123\"}}\n",
    "\n",
    "# 삼성전자 주가 질문 처리 후 메모리 확인\n",
    "for chunk in agent_executor.stream(\n",
    "    {\"messages\": [HumanMessage(content=\"삼성전자 주가가 어떻게 되나요?\")]}, config\n",
    "):\n",
    "    print(chunk)\n",
    "    print(\"----\")\n",
    "\n",
    "# 이후 대화에서 이전 질문을 기억하는지 확인\n",
    "for chunk in agent_executor.stream(\n",
    "    {\"messages\": [HumanMessage(content=\"내가 전에 뭐 물어봤지?\")]}, config\n",
    "):\n",
    "    print(chunk)\n",
    "    print(\"----\")"
   ]
  },
  {
   "cell_type": "code",
   "execution_count": null,
   "metadata": {},
   "outputs": [],
   "source": []
  }
 ],
 "metadata": {
  "kernelspec": {
   "display_name": ".venv",
   "language": "python",
   "name": "python3"
  },
  "language_info": {
   "codemirror_mode": {
    "name": "ipython",
    "version": 3
   },
   "file_extension": ".py",
   "mimetype": "text/x-python",
   "name": "python",
   "nbconvert_exporter": "python",
   "pygments_lexer": "ipython3",
   "version": "3.10.12"
  }
 },
 "nbformat": 4,
 "nbformat_minor": 2
}
