{
 "cells": [
  {
   "cell_type": "markdown",
   "metadata": {},
   "source": [
    "## 1. 필요 패키지 설치"
   ]
  },
  {
   "cell_type": "code",
   "execution_count": 3,
   "metadata": {},
   "outputs": [],
   "source": [
    "import os\n",
    "from dotenv import load_dotenv\n",
    "\n",
    "load_dotenv()\n",
    "\n",
    "\n",
    "EMBEDDING_MODEL_ID = 'amazon.titan-embed-text-v2:0'\n",
    "CLAUDE_HAIKU_ID = 'anthropic.claude-3-haiku-20240307-v1:0'\n",
    "CLAUDE_SONET_ID = 'anthropic.claude-3-5-sonnet-20240620-v1:0'"
   ]
  },
  {
   "cell_type": "code",
   "execution_count": 6,
   "metadata": {},
   "outputs": [
    {
     "name": "stdout",
     "output_type": "stream",
     "text": [
      "content='안녕하세요는 영어로 \"Hello\" 또는 \"Good morning/afternoon/evening\"으로 번역할 수 있습니다.\\n\\n예를 들면:\\n\\n- 안녕하세요 = Hello\\n- 안녕하세요, 좋은 아침입니다 = Good morning\\n- 안녕하세요, 좋은 오후입니다 = Good afternoon\\n- 안녕하세요, 좋은 저녁입니다 = Good evening\\n\\n이렇게 상황에 맞게 적절한 인사말로 번역할 수 있습니다.' additional_kwargs={'usage': {'prompt_tokens': 19, 'completion_tokens': 171, 'total_tokens': 190}, 'stop_reason': 'end_turn', 'model_id': 'anthropic.claude-3-haiku-20240307-v1:0'} response_metadata={'usage': {'prompt_tokens': 19, 'completion_tokens': 171, 'total_tokens': 190}, 'stop_reason': 'end_turn', 'model_id': 'anthropic.claude-3-haiku-20240307-v1:0'} id='run-e94f7a50-b737-490f-9521-5bfcc3d360a2-0' usage_metadata={'input_tokens': 19, 'output_tokens': 171, 'total_tokens': 190}\n",
      "----\n",
      "안녕하세요는 영어로 \"Hello\" 또는 \"Good morning/afternoon/evening\"으로 번역할 수 있습니다.\n",
      "\n",
      "예를 들면:\n",
      "\n",
      "- 안녕하세요 = Hello\n",
      "- 안녕하세요, 좋은 아침입니다 = Good morning\n",
      "- 안녕하세요, 좋은 오후입니다 = Good afternoon\n",
      "- 안녕하세요, 좋은 저녁입니다 = Good evening\n",
      "\n",
      "이렇게 상황에 맞게 적절한 인사말로 번역할 수 있습니다.\n"
     ]
    }
   ],
   "source": [
    "from langchain_aws.chat_models import ChatBedrock\n",
    "\n",
    "chat_model = ChatBedrock(model_id=CLAUDE_HAIKU_ID)\n",
    "response = chat_model.invoke(\"안녕하세요를 영어로\")\n",
    "print(response)\n",
    "print(\"----\")\n",
    "print(response.content)"
   ]
  },
  {
   "cell_type": "markdown",
   "metadata": {},
   "source": [
    "## 2. 상태 그래프(StateGraph) 생성"
   ]
  },
  {
   "cell_type": "code",
   "execution_count": 7,
   "metadata": {},
   "outputs": [],
   "source": [
    "from typing import Annotated\n",
    "from typing_extensions import TypedDict\n",
    "from langgraph.graph import StateGraph, START, END\n",
    "from langgraph.graph.message import add_messages\n",
    "\n",
    "class State(TypedDict):\n",
    "    # 메시지 리스트를 유지하며 새로운 메시지를 추가하는 reducer 함수 지정\n",
    "    messages: Annotated[list, add_messages]\n",
    "\n",
    "graph_builder = StateGraph(State)"
   ]
  },
  {
   "cell_type": "markdown",
   "metadata": {},
   "source": [
    "## 3. 챗봇 노드 생성"
   ]
  },
  {
   "cell_type": "code",
   "execution_count": 12,
   "metadata": {},
   "outputs": [
    {
     "data": {
      "text/plain": [
       "<langgraph.graph.state.StateGraph at 0x7f13a696cfd0>"
      ]
     },
     "execution_count": 12,
     "metadata": {},
     "output_type": "execute_result"
    }
   ],
   "source": [
    "from langchain_aws.chat_models import ChatBedrock\n",
    "\n",
    "llm = ChatBedrock(model_id=\"anthropic.claude-3-5-sonnet-20240620-v1:0\")\n",
    "\n",
    "def chatbot(state: State):\n",
    "    return {\"messages\": [llm.invoke(state[\"messages\"])]}\n",
    "\n",
    "graph_builder.add_node(\"chatbot\", chatbot)"
   ]
  },
  {
   "cell_type": "markdown",
   "metadata": {},
   "source": [
    "## 4. 그래프 시작 및 종료 지점 설정"
   ]
  },
  {
   "cell_type": "code",
   "execution_count": 13,
   "metadata": {},
   "outputs": [
    {
     "data": {
      "text/plain": [
       "<langgraph.graph.state.StateGraph at 0x7f13a696cfd0>"
      ]
     },
     "execution_count": 13,
     "metadata": {},
     "output_type": "execute_result"
    }
   ],
   "source": [
    "# START -> chatbot -> END\n",
    "\n",
    "graph_builder.add_edge(START, \"chatbot\")\n",
    "graph_builder.add_edge(\"chatbot\", END)\n"
   ]
  },
  {
   "cell_type": "markdown",
   "metadata": {},
   "source": [
    "## 5. 그래프 컴파일 및 실행"
   ]
  },
  {
   "cell_type": "code",
   "execution_count": 15,
   "metadata": {},
   "outputs": [],
   "source": [
    "graph = graph_builder.compile()"
   ]
  },
  {
   "cell_type": "markdown",
   "metadata": {},
   "source": [
    "## 6. 그래프 시각화 (옵션)"
   ]
  },
  {
   "cell_type": "code",
   "execution_count": 16,
   "metadata": {},
   "outputs": [
    {
     "data": {
      "image/jpeg": "[encoded data removed]",
      "text/plain": [
       "<IPython.core.display.Image object>"
      ]
     },
     "metadata": {},
     "output_type": "display_data"
    }
   ],
   "source": [
    "from IPython.display import Image, display\n",
    "\n",
    "try:\n",
    "    display(Image(graph.get_graph().draw_mermaid_png()))\n",
    "except Exception:\n",
    "    pass"
   ]
  },
  {
   "cell_type": "markdown",
   "metadata": {},
   "source": [
    "## 7. 챗봇 실행"
   ]
  },
  {
   "cell_type": "code",
   "execution_count": 17,
   "metadata": {},
   "outputs": [
    {
     "name": "stdout",
     "output_type": "stream",
     "text": [
      "Assistant: 말씨를 좀 더 정중하게 해주시면 감사하겠습니다. 저는 당신을 돕기 위해 여기 있습니다. 무엇을 도와드릴까요?\n",
      "Assistant: '어쩔요'는 주로 가벼운 대화나 친구 사이에서 사용되는 표현입니다. 상황에 따라 다양한 의미로 해석될 수 있어요:\n",
      "\n",
      "1. \"어쩔 수 없어요\" 의 줄임말로, 상황을 받아들이는 뉘앙스\n",
      "2. \"어떻게 해요?\" 의 줄임말로, 질문의 의미\n",
      "3. 상대방의 말에 대한 가벼운 반응이나 동의\n",
      "4. 때로는 약간의 짜증이나 불만을 표현할 때도 사용\n",
      "\n",
      "정확한 의미는 대화의 맥락과 톤에 따라 달라질 수 있습니다. 공식적인 자리나 윗사람과의 대화에서는 적절하지 않을 수 있으니 주의가 필요해요.\n"
     ]
    },
    {
     "name": "stderr",
     "output_type": "stream",
     "text": [
      "ERROR:root:Error raised by bedrock service: An error occurred (ValidationException) when calling the InvokeModel operation: messages.0: all messages must have non-empty content except for the optional final assistant message\n",
      "WARNING:langchain_core.callbacks.manager:Error in LangChainTracer.on_llm_error callback: TracerException('No indexed run ID ee905874-409d-4cd7-adf0-6d93b2ac9ce6.')\n"
     ]
    },
    {
     "name": "stdout",
     "output_type": "stream",
     "text": [
      "User: What do you know about LangGraph?\n",
      "Assistant: LangGraph is a library designed to help create language model agents and workflows using LangChain. It provides tools for building multi-agent systems and complex reasoning chains with large language models. LangGraph aims to make it easier to create stateful, multi-step AI workflows and agent interactions. However, as I don't have perfect up-to-date knowledge about its latest features or developments, I'd recommend checking the official documentation or recent announcements for the most current information.\n"
     ]
    }
   ],
   "source": [
    "def stream_graph_updates(user_input: str):\n",
    "    for event in graph.stream({\"messages\": [(\"user\", user_input)]}):\n",
    "        for value in event.values():\n",
    "            print(\"Assistant:\", value[\"messages\"][-1].content)\n",
    "\n",
    "while True:\n",
    "    try:\n",
    "        user_input = input(\"User: \")\n",
    "        if user_input.lower() in [\"quit\", \"exit\", \"q\"]:\n",
    "            print(\"Goodbye!\")\n",
    "            break\n",
    "        stream_graph_updates(user_input)\n",
    "    except:\n",
    "        # 입력 함수가 불가능할 때 처리\n",
    "        user_input = \"What do you know about LangGraph?\"\n",
    "        print(\"User: \" + user_input)\n",
    "        stream_graph_updates(user_input)\n",
    "        break"
   ]
  },
  {
   "cell_type": "code",
   "execution_count": 18,
   "metadata": {},
   "outputs": [
    {
     "data": {
      "text/plain": [
       "{'messages': [HumanMessage(content='안녕하세요를 영어로', additional_kwargs={}, response_metadata={}, id='d8b52730-b731-40da-904c-0ac4274cc56b'),\n",
       "  AIMessage(content='\"안녕하세요\"를 영어로 표현하는 방법은 상황에 따라 다양합니다:\\n\\n1. Hello - 가장 일반적인 인사말\\n\\n2. Hi - 친근하고 informal한 인사말\\n\\n3. Good morning - 아침 인사\\n\\n4. Good afternoon - 오후 인사\\n\\n5. Good evening - 저녁 인사\\n\\n6. How are you? - \"어떻게 지내세요?\"라는 의미로 인사할 때 사용\\n\\n7. Nice to meet you - 처음 만났을 때 사용하는 인사\\n\\n8. Welcome - 환영의 의미를 담은 인사\\n\\n상황과 대화 상대에 따라 적절한 표현을 선택하면 됩니다. 가장 보편적으로 사용되는 것은 \"Hello\"와 \"Hi\"입니다.', additional_kwargs={'usage': {'prompt_tokens': 19, 'completion_tokens': 251, 'total_tokens': 270}, 'stop_reason': 'end_turn', 'model_id': 'anthropic.claude-3-5-sonnet-20240620-v1:0'}, response_metadata={'usage': {'prompt_tokens': 19, 'completion_tokens': 251, 'total_tokens': 270}, 'stop_reason': 'end_turn', 'model_id': 'anthropic.claude-3-5-sonnet-20240620-v1:0'}, id='run-62f149a9-fb85-4064-a316-a0be56f29a5b-0', usage_metadata={'input_tokens': 19, 'output_tokens': 251, 'total_tokens': 270})]}"
      ]
     },
     "execution_count": 18,
     "metadata": {},
     "output_type": "execute_result"
    }
   ],
   "source": [
    "graph.invoke({'messages':[\"안녕하세요를 영어로\"]})"
   ]
  },
  {
   "cell_type": "markdown",
   "metadata": {},
   "source": [
    "---"
   ]
  },
  {
   "cell_type": "markdown",
   "metadata": {},
   "source": [
    "# Part2: 도구를 활용한 챗봇 향상"
   ]
  },
  {
   "cell_type": "markdown",
   "metadata": {},
   "source": [
    "## TavilySearchResults 사용"
   ]
  },
  {
   "cell_type": "code",
   "execution_count": 20,
   "metadata": {},
   "outputs": [
    {
     "data": {
      "text/plain": [
       "[{'url': 'https://www.datacamp.com/tutorial/langgraph-tutorial',\n",
       "  'content': 'Jun 26, 2024 · Nodes: Nodes represent units of work within your LangGraph. They are typically Python functions that perform a specific task, such as:.'},\n",
       " {'url': 'https://www.ionio.ai/blog/a-comprehensive-guide-about-langgraph-code-included',\n",
       "  'content': \"A node can be any function or tool your agent uses in langgraph and these nodes are connected with other nodes using edges. Every workflow ends with a “END”\\xa0...What is Langgraph? · Creating a Basic Workflow... · Mini Project: Let's Create a...\"}]"
      ]
     },
     "execution_count": 20,
     "metadata": {},
     "output_type": "execute_result"
    }
   ],
   "source": [
    "# 도구 정의\n",
    "from langchain_community.tools.tavily_search import TavilySearchResults\n",
    "\n",
    "tool = TavilySearchResults(max_results=2)\n",
    "tools = [tool]\n",
    "tool.invoke(\"What's a 'node' in LangGraph?\")"
   ]
  },
  {
   "cell_type": "markdown",
   "metadata": {},
   "source": [
    "## 그래프 빌드"
   ]
  },
  {
   "cell_type": "code",
   "execution_count": 21,
   "metadata": {},
   "outputs": [
    {
     "data": {
      "text/plain": [
       "<langgraph.graph.state.StateGraph at 0x7f13a4d1c2b0>"
      ]
     },
     "execution_count": 21,
     "metadata": {},
     "output_type": "execute_result"
    }
   ],
   "source": [
    "from langchain_aws.chat_models import ChatBedrock\n",
    "from langgraph.graph import StateGraph, START, END\n",
    "from langgraph.graph.message import add_messages\n",
    "\n",
    "llm = ChatBedrock(model_id=\"anthropic.claude-3-5-sonnet-20240620-v1:0\")\n",
    "llm_with_tools = llm.bind_tools(tools)\n",
    "\n",
    "graph_builder = StateGraph(State)\n",
    "\n",
    "def chatbot(state: State):\n",
    "    return {\"messages\": [llm_with_tools.invoke(state[\"messages\"])]}\n",
    "\n",
    "graph_builder.add_node(\"chatbot\", chatbot)"
   ]
  },
  {
   "cell_type": "markdown",
   "metadata": {},
   "source": [
    "## 도구 노드 추가"
   ]
  },
  {
   "cell_type": "code",
   "execution_count": 22,
   "metadata": {},
   "outputs": [
    {
     "data": {
      "text/plain": [
       "<langgraph.graph.state.StateGraph at 0x7f13a4d1c2b0>"
      ]
     },
     "execution_count": 22,
     "metadata": {},
     "output_type": "execute_result"
    }
   ],
   "source": [
    "class BasicToolNode:\n",
    "    def __init__(self, tools: list) -> None:\n",
    "        self.tools_by_name = {tool.name: tool for tool in tools}\n",
    "\n",
    "    def __call__(self, inputs: dict):\n",
    "        if messages := inputs.get(\"messages\", []):\n",
    "            message = messages[-1]\n",
    "        else:\n",
    "            raise ValueError(\"No message found in input\")\n",
    "\n",
    "        outputs = []\n",
    "        for tool_call in message.tool_calls:\n",
    "            tool_result = self.tools_by_name[tool_call[\"name\"]].invoke(\n",
    "                tool_call[\"args\"]\n",
    "            )\n",
    "            outputs.append(\n",
    "                ToolMessage(\n",
    "                    content=json.dumps(tool_result),\n",
    "                    name=tool_call[\"name\"],\n",
    "                    tool_call_id=tool_call[\"id\"],\n",
    "                )\n",
    "            )\n",
    "        return {\"messages\": outputs}\n",
    "\n",
    "tool_node = BasicToolNode(tools=[tool])\n",
    "graph_builder.add_node(\"tools\", tool_node)"
   ]
  },
  {
   "cell_type": "markdown",
   "metadata": {},
   "source": [
    "## 조건부 경로 설정"
   ]
  },
  {
   "cell_type": "code",
   "execution_count": 23,
   "metadata": {},
   "outputs": [],
   "source": [
    "def route_tools(state: State):\n",
    "    if isinstance(state, list):\n",
    "        ai_message = state[-1]\n",
    "    elif messages := state.get(\"messages\", []):\n",
    "        ai_message = messages[-1]\n",
    "    else:\n",
    "        raise ValueError(f\"No messages found in input state to tool_edge: {state}\")\n",
    "\n",
    "    if hasattr(ai_message, \"tool_calls\") and len(ai_message.tool_calls) > 0:\n",
    "        return \"tools\"\n",
    "    return END\n",
    "\n",
    "graph_builder.add_conditional_edges(\n",
    "    \"chatbot\",\n",
    "    route_tools,\n",
    "    {\"tools\": \"tools\", END: END},\n",
    ")\n",
    "\n",
    "graph_builder.add_edge(\"tools\", \"chatbot\")\n",
    "graph_builder.add_edge(START, \"chatbot\")\n",
    "graph = graph_builder.compile()"
   ]
  },
  {
   "cell_type": "code",
   "execution_count": 26,
   "metadata": {},
   "outputs": [
    {
     "data": {
      "image/jpeg": "[encoded data removed]",
      "text/plain": [
       "<IPython.core.display.Image object>"
      ]
     },
     "metadata": {},
     "output_type": "display_data"
    }
   ],
   "source": [
    "# 그래프로 확인\n",
    "from IPython.display import Image, display\n",
    "\n",
    "try:\n",
    "    display(Image(graph.get_graph().draw_mermaid_png()))\n",
    "except Exception:\n",
    "    pass"
   ]
  },
  {
   "cell_type": "markdown",
   "metadata": {},
   "source": [
    "## 챗봇 실행"
   ]
  },
  {
   "cell_type": "code",
   "execution_count": 31,
   "metadata": {},
   "outputs": [
    {
     "name": "stdout",
     "output_type": "stream",
     "text": [
      "Assistant: \n",
      "Assistant: [{\"url\": \"https://kr.investing.com/equities/samsung-electronics-co-ltd\", \"content\": \"Samsung Electronics Co Ltd의 오늘 주가는? Samsung Electronics Co Ltd의 오늘 주가는 60,600입니다. Samsung Electronics Co Ltd의 주식 티커는? Samsung Electronics ...과거 데이터 · 차트 · 기술 분석 · 배당\"}, {\"url\": \"https://stock.mk.co.kr/price/home/KR7005930003\", \"content\": \"삼성전자 (005930). 10.04 15:33. 코스피. 전기,전자. 60,600. 700. -1.14%. 전일, 61,300. 시가, 61,000. 고가, 61,700. 저가, 60,500. 상한가, 79,600.\"}]\n",
      "Assistant: 삼성전자의 오늘 주가에 대한 정보를 찾아보았습니다. 현재 가장 최신 정보를 기준으로 말씀드리겠습니다.\n",
      "\n",
      "삼성전자(005930)의 오늘 주가는 60,600원입니다. 이는 전일 대비 700원(-1.14%) 하락한 수치입니다. \n",
      "\n",
      "추가적인 거래 정보는 다음과 같습니다:\n",
      "- 전일 종가: 61,300원\n",
      "- 시가: 61,000원\n",
      "- 고가: 61,700원\n",
      "- 저가: 60,500원\n",
      "\n",
      "이 정보는 한국 시간으로 오후 3시 33분 기준의 데이터입니다. 주식 시장은 실시간으로 변동되므로, 현재 시점과는 약간의 차이가 있을 수 있습니다. \n",
      "\n",
      "투자 결정을 내리실 때는 이 정보뿐만 아니라 다양한 경제 지표와 회사의 실적, 향후 전망 등을 종합적으로 고려하시는 것이 좋습니다. 또한, 실시간 주가 확인을 위해서는 증권사 앱이나 웹사이트를 이용하시는 것이 가장 정확할 것입니다.\n",
      "Goodbye!\n"
     ]
    }
   ],
   "source": [
    "def stream_graph_updates(user_input: str):\n",
    "    for event in graph.stream({\"messages\": [(\"user\", user_input)]}):\n",
    "        for value in event.values():\n",
    "            print(\"Assistant:\", value[\"messages\"][-1].content)\n",
    "\n",
    "while True:\n",
    "    try:\n",
    "        user_input = input(\"User: \")\n",
    "        if user_input.lower() in [\"quit\", \"exit\", \"q\"]:\n",
    "            print(\"Goodbye!\")\n",
    "            break\n",
    "        stream_graph_updates(user_input)\n",
    "    except:\n",
    "        # 입력 함수가 불가능할 때 처리\n",
    "        user_input = \"What do you know about LangGraph?\"\n",
    "        print(\"User: \" + user_input)\n",
    "        stream_graph_updates(user_input)\n",
    "        break"
   ]
  },
  {
   "cell_type": "markdown",
   "metadata": {},
   "source": [
    "## 최종 코드(ToolNode 사용)"
   ]
  },
  {
   "cell_type": "code",
   "execution_count": 25,
   "metadata": {},
   "outputs": [],
   "source": [
    "from langchain_aws.chat_models import ChatBedrock\n",
    "from langchain_community.tools.tavily_search import TavilySearchResults\n",
    "from langgraph.graph import StateGraph\n",
    "from langgraph.prebuilt import ToolNode, tools_condition\n",
    "\n",
    "llm = ChatBedrock(model_id=\"anthropic.claude-3-5-sonnet-20240620-v1:0\")\n",
    "tool = TavilySearchResults(max_results=2)\n",
    "tools = [tool]\n",
    "\n",
    "llm_with_tools = llm.bind_tools(tools)\n",
    "graph_builder = StateGraph(State)\n",
    "\n",
    "def chatbot(state: State):\n",
    "    return {\"messages\": [llm_with_tools.invoke(state[\"messages\"])]}\n",
    "\n",
    "graph_builder.add_node(\"chatbot\", chatbot)\n",
    "\n",
    "tool_node = ToolNode(tools=[tool])\n",
    "graph_builder.add_node(\"tools\", tool_node)\n",
    "\n",
    "graph_builder.add_conditional_edges(\n",
    "    \"chatbot\",\n",
    "    tools_condition,\n",
    ")\n",
    "\n",
    "graph_builder.add_edge(\"tools\", \"chatbot\")\n",
    "graph_builder.set_entry_point(\"chatbot\")\n",
    "graph = graph_builder.compile()"
   ]
  },
  {
   "cell_type": "markdown",
   "metadata": {},
   "source": [
    "---"
   ]
  },
  {
   "cell_type": "markdown",
   "metadata": {},
   "source": [
    "# Part 3"
   ]
  },
  {
   "cell_type": "code",
   "execution_count": 32,
   "metadata": {},
   "outputs": [],
   "source": [
    "from langchain_aws.chat_models import ChatBedrock\n",
    "from langchain_community.tools.tavily_search import TavilySearchResults\n",
    "from langgraph.graph import StateGraph, START, END\n",
    "from langgraph.graph.message import add_messages\n",
    "from langgraph.prebuilt import ToolNode, tools_condition\n",
    "from langgraph.checkpoint.memory import MemorySaver\n",
    "from typing_extensions import TypedDict\n",
    "from typing import Annotated\n",
    "\n",
    "class State(TypedDict):\n",
    "    messages: Annotated[list, add_messages]\n",
    "\n",
    "# 그래프 빌더 생성\n",
    "graph_builder = StateGraph(State)\n",
    "\n",
    "# 도구 및 LLM 설정\n",
    "tool = TavilySearchResults(max_results=2)\n",
    "tools = [tool]\n",
    "llm = ChatBedrock(model_id=CLAUDE_HAIKU_ID)\n",
    "llm_with_tools = llm.bind_tools(tools)\n",
    "\n",
    "# 챗봇 노드 정의\n",
    "def chatbot(state: State):\n",
    "    return {\"messages\": [llm_with_tools.invoke(state[\"messages\"])]}\n",
    "\n",
    "graph_builder.add_node(\"chatbot\", chatbot)\n",
    "\n",
    "# ToolNode 추가\n",
    "tool_node = ToolNode(tools=[tool])\n",
    "graph_builder.add_node(\"tools\", tool_node)\n",
    "\n",
    "# 조건부 엣지 설정 (도구 호출 여부에 따른 흐름 제어)\n",
    "graph_builder.add_conditional_edges(\"chatbot\", tools_condition)\n",
    "graph_builder.add_edge(\"tools\", \"chatbot\")\n",
    "graph_builder.add_edge(START, \"chatbot\")\n",
    "\n",
    "# 메모리 체크포인터 추가\n",
    "memory = MemorySaver()\n",
    "graph = graph_builder.compile(checkpointer=memory)\n"
   ]
  },
  {
   "cell_type": "code",
   "execution_count": 33,
   "metadata": {},
   "outputs": [
    {
     "name": "stdout",
     "output_type": "stream",
     "text": [
      "================================\u001b[1m Human Message \u001b[0m=================================\n",
      "\n",
      "Hi there! My name is Will.\n",
      "==================================\u001b[1m Ai Message \u001b[0m==================================\n",
      "\n",
      "It's nice to meet you, Will! I'm an AI assistant here to help out however I can. Please let me know if you have any questions or if there's anything I can assist with.\n"
     ]
    }
   ],
   "source": [
    "config = {\"configurable\": {\"thread_id\": \"1\"}}\n",
    "user_input = \"Hi there! My name is Will.\"\n",
    "\n",
    "events = graph.stream({\"messages\": [(\"user\", user_input)]}, config, stream_mode=\"values\")\n",
    "for event in events:\n",
    "    event[\"messages\"][-1].pretty_print()\n"
   ]
  },
  {
   "cell_type": "code",
   "execution_count": 34,
   "metadata": {},
   "outputs": [
    {
     "name": "stdout",
     "output_type": "stream",
     "text": [
      "================================\u001b[1m Human Message \u001b[0m=================================\n",
      "\n",
      "Remember my name?\n",
      "==================================\u001b[1m Ai Message \u001b[0m==================================\n",
      "\n",
      "Yes, I remember your name is Will. It's a pleasure to meet you!\n"
     ]
    }
   ],
   "source": [
    "user_input = \"Remember my name?\"\n",
    "\n",
    "events = graph.stream({\"messages\": [(\"user\", user_input)]}, config, stream_mode=\"values\")\n",
    "for event in events:\n",
    "    event[\"messages\"][-1].pretty_print()\n"
   ]
  },
  {
   "cell_type": "code",
   "execution_count": 35,
   "metadata": {},
   "outputs": [
    {
     "name": "stdout",
     "output_type": "stream",
     "text": [
      "================================\u001b[1m Human Message \u001b[0m=================================\n",
      "\n",
      "Remember my name?\n",
      "==================================\u001b[1m Ai Message \u001b[0m==================================\n",
      "\n",
      "I'm afraid I don't actually have a persistent memory of your name. As an AI assistant, I don't have the capability to remember individual users and their personal information. I respond based on the current conversation, without retaining details about previous interactions. Could you please remind me your name so I can address you properly?\n"
     ]
    }
   ],
   "source": [
    "# 다른 thread_id 사용 -> 기억 못함\n",
    "\n",
    "events = graph.stream({\"messages\": [(\"user\", user_input)]}, {\"configurable\": {\"thread_id\": \"2\"}}, stream_mode=\"values\")\n",
    "for event in events:\n",
    "    event[\"messages\"][-1].pretty_print()"
   ]
  },
  {
   "cell_type": "code",
   "execution_count": 36,
   "metadata": {},
   "outputs": [
    {
     "data": {
      "text/plain": [
       "StateSnapshot(values={'messages': [HumanMessage(content='Hi there! My name is Will.', additional_kwargs={}, response_metadata={}, id='1e0800fc-c04c-4916-b32f-34c047d7d0b1'), AIMessage(content=\"It's nice to meet you, Will! I'm an AI assistant here to help out however I can. Please let me know if you have any questions or if there's anything I can assist with.\", additional_kwargs={'usage': {'prompt_tokens': 375, 'completion_tokens': 44, 'total_tokens': 419}, 'stop_reason': 'end_turn', 'model_id': 'anthropic.claude-3-haiku-20240307-v1:0'}, response_metadata={'usage': {'prompt_tokens': 375, 'completion_tokens': 44, 'total_tokens': 419}, 'stop_reason': 'end_turn', 'model_id': 'anthropic.claude-3-haiku-20240307-v1:0'}, id='run-8d253bea-23b1-4160-9c58-3e3eed0d197c-0', usage_metadata={'input_tokens': 375, 'output_tokens': 44, 'total_tokens': 419}), HumanMessage(content='Remember my name?', additional_kwargs={}, response_metadata={}, id='b5121a69-99e4-4cc6-a543-cc55a2eb2991'), AIMessage(content=\"Yes, I remember your name is Will. It's a pleasure to meet you!\", additional_kwargs={'usage': {'prompt_tokens': 426, 'completion_tokens': 20, 'total_tokens': 446}, 'stop_reason': 'end_turn', 'model_id': 'anthropic.claude-3-haiku-20240307-v1:0'}, response_metadata={'usage': {'prompt_tokens': 426, 'completion_tokens': 20, 'total_tokens': 446}, 'stop_reason': 'end_turn', 'model_id': 'anthropic.claude-3-haiku-20240307-v1:0'}, id='run-7669e27e-d411-4003-ad9e-4c095faeba11-0', usage_metadata={'input_tokens': 426, 'output_tokens': 20, 'total_tokens': 446})]}, next=(), config={'configurable': {'thread_id': '1', 'checkpoint_ns': '', 'checkpoint_id': '1ef845c1-e860-65e7-8004-486006fe280a'}}, metadata={'source': 'loop', 'writes': {'chatbot': {'messages': [AIMessage(content=\"Yes, I remember your name is Will. It's a pleasure to meet you!\", additional_kwargs={'usage': {'prompt_tokens': 426, 'completion_tokens': 20, 'total_tokens': 446}, 'stop_reason': 'end_turn', 'model_id': 'anthropic.claude-3-haiku-20240307-v1:0'}, response_metadata={'usage': {'prompt_tokens': 426, 'completion_tokens': 20, 'total_tokens': 446}, 'stop_reason': 'end_turn', 'model_id': 'anthropic.claude-3-haiku-20240307-v1:0'}, id='run-7669e27e-d411-4003-ad9e-4c095faeba11-0', usage_metadata={'input_tokens': 426, 'output_tokens': 20, 'total_tokens': 446})]}}, 'step': 4, 'parents': {}}, created_at='2024-10-07T03:27:45.573196+00:00', parent_config={'configurable': {'thread_id': '1', 'checkpoint_ns': '', 'checkpoint_id': '1ef845c1-e1a6-657c-8003-bbca375a163e'}}, tasks=())"
      ]
     },
     "execution_count": 36,
     "metadata": {},
     "output_type": "execute_result"
    }
   ],
   "source": [
    "snapshot = graph.get_state(config)\n",
    "snapshot"
   ]
  },
  {
   "cell_type": "code",
   "execution_count": 38,
   "metadata": {},
   "outputs": [
    {
     "data": {
      "text/plain": [
       "[HumanMessage(content='Hi there! My name is Will.', additional_kwargs={}, response_metadata={}, id='1e0800fc-c04c-4916-b32f-34c047d7d0b1'),\n",
       " AIMessage(content=\"It's nice to meet you, Will! I'm an AI assistant here to help out however I can. Please let me know if you have any questions or if there's anything I can assist with.\", additional_kwargs={'usage': {'prompt_tokens': 375, 'completion_tokens': 44, 'total_tokens': 419}, 'stop_reason': 'end_turn', 'model_id': 'anthropic.claude-3-haiku-20240307-v1:0'}, response_metadata={'usage': {'prompt_tokens': 375, 'completion_tokens': 44, 'total_tokens': 419}, 'stop_reason': 'end_turn', 'model_id': 'anthropic.claude-3-haiku-20240307-v1:0'}, id='run-8d253bea-23b1-4160-9c58-3e3eed0d197c-0', usage_metadata={'input_tokens': 375, 'output_tokens': 44, 'total_tokens': 419}),\n",
       " HumanMessage(content='Remember my name?', additional_kwargs={}, response_metadata={}, id='b5121a69-99e4-4cc6-a543-cc55a2eb2991'),\n",
       " AIMessage(content=\"Yes, I remember your name is Will. It's a pleasure to meet you!\", additional_kwargs={'usage': {'prompt_tokens': 426, 'completion_tokens': 20, 'total_tokens': 446}, 'stop_reason': 'end_turn', 'model_id': 'anthropic.claude-3-haiku-20240307-v1:0'}, response_metadata={'usage': {'prompt_tokens': 426, 'completion_tokens': 20, 'total_tokens': 446}, 'stop_reason': 'end_turn', 'model_id': 'anthropic.claude-3-haiku-20240307-v1:0'}, id='run-7669e27e-d411-4003-ad9e-4c095faeba11-0', usage_metadata={'input_tokens': 426, 'output_tokens': 20, 'total_tokens': 446})]"
      ]
     },
     "execution_count": 38,
     "metadata": {},
     "output_type": "execute_result"
    }
   ],
   "source": [
    "snapshot.values['messages']"
   ]
  },
  {
   "cell_type": "code",
   "execution_count": null,
   "metadata": {},
   "outputs": [],
   "source": []
  }
 ],
 "metadata": {
  "kernelspec": {
   "display_name": ".venv",
   "language": "python",
   "name": "python3"
  },
  "language_info": {
   "codemirror_mode": {
    "name": "ipython",
    "version": 3
   },
   "file_extension": ".py",
   "mimetype": "text/x-python",
   "name": "python",
   "nbconvert_exporter": "python",
   "pygments_lexer": "ipython3",
   "version": "3.10.12"
  }
 },
 "nbformat": 4,
 "nbformat_minor": 2
}
